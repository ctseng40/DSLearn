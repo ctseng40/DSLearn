{
  "nbformat": 4,
  "nbformat_minor": 0,
  "metadata": {
    "colab": {
      "name": "logistic_regression.ipynb",
      "provenance": [],
      "collapsed_sections": [],
      "authorship_tag": "ABX9TyPT9jEOi7YzNKrpBniypRPr",
      "include_colab_link": true
    },
    "kernelspec": {
      "name": "python3",
      "display_name": "Python 3"
    },
    "language_info": {
      "name": "python"
    }
  },
  "cells": [
    {
      "cell_type": "markdown",
      "metadata": {
        "id": "view-in-github",
        "colab_type": "text"
      },
      "source": [
        "<a href=\"https://colab.research.google.com/github/ctseng40/DSLearn/blob/main/logistic_regression.ipynb\" target=\"_parent\"><img src=\"https://colab.research.google.com/assets/colab-badge.svg\" alt=\"Open In Colab\"/></a>"
      ]
    },
    {
      "cell_type": "markdown",
      "metadata": {
        "id": "k-1DfL6tR9bm"
      },
      "source": [
        "Logistic Regression"
      ]
    },
    {
      "cell_type": "code",
      "metadata": {
        "id": "_1HzXC8k7ngl"
      },
      "source": [
        "def logistic_regression(x, y, iterations=100, learning_rate=0.01):\n",
        "  m, n = len(x), len(x[n]) # m: number of data points, number of deatures\n",
        "  beta_0, beta_other = initialize_params(n) # beta zero has a different from of gradient than other betas\n",
        "  for _ in range(iterations):\n",
        "    gradient_beta_0, gradient_beta_other = compute_gradients(x, y, beta_0, beta_other, m, n, 50)\n",
        "    beta_0, beta_other = update_params(beta_0, beta_other, gradient_beta_0, gradient_beta_other, learning_rate)\n",
        "  return beta_0, beta_other"
      ],
      "execution_count": 1,
      "outputs": []
    },
    {
      "cell_type": "code",
      "metadata": {
        "id": "fTFnHxNzTd4z"
      },
      "source": [
        "def initialize_params(n):\n",
        "  beta_0 = 0\n",
        "  beta_other = [random.random() for _ in range(n)]\n",
        "  return beta_0, beta_other"
      ],
      "execution_count": 2,
      "outputs": []
    },
    {
      "cell_type": "code",
      "metadata": {
        "id": "XPOe2j4XUHDr"
      },
      "source": [
        "def compute_gradients(x, y, beta_0, beta_other, m, n):\n",
        "  gradient_beta_0 = 0\n",
        "  gradient_beta_other = [0] * n\n",
        "\n",
        "  for i, point in enumerate(x):\n",
        "    pred = logistic_function(point, beta_0, beta_other)\n",
        "\n",
        "    for j, feature in enumerate(point):\n",
        "      gradient_beta_other[j] += (pred - y[i]) * feature / m\n",
        "      gradient_beta_0 += (pred - y[i]) / m\n",
        "\n",
        "  return  gradient_beta_0, gradient_beta_other"
      ],
      "execution_count": null,
      "outputs": []
    },
    {
      "cell_type": "code",
      "metadata": {
        "id": "OH868CPvWljl"
      },
      "source": [
        "def logistic_function(point, beta_0, beta_other):\n",
        "  return 1/ (1 + np.exp(-(beta_0 + point.dot(ceta_other))))"
      ],
      "execution_count": null,
      "outputs": []
    },
    {
      "cell_type": "code",
      "metadata": {
        "id": "qnLAPdWQW8uF"
      },
      "source": [
        "def update_params(beta_0, beta_other, gradient_beta_0, gradient_beta_other, learning_rate):\n",
        "  \n",
        "  beta_0 -= gradient_beta_0 * learning_rate\n",
        "  \n",
        "  for i in range(len(beta_other)):\n",
        "    beta_other[i] -= gradient_beta_other[i] * learning_rate\n",
        "\n",
        "  return beta_0, beta_other"
      ],
      "execution_count": null,
      "outputs": []
    },
    {
      "cell_type": "code",
      "metadata": {
        "id": "FzBYf1e0YdZu"
      },
      "source": [
        "def compute_gradients_minibatch(x, y, beta_0, beta_other, m, n, batch_size):\n",
        "  gradient_beta_0 = 0\n",
        "  gradient_beta_other = [0] * n\n",
        "\n",
        "  for _ in range(batch_size):\n",
        "    i = random.randint(0, m-1)\n",
        "    point = x[i]\n",
        "    pred = logistic_function(point, beta_0, beta_other)\n",
        "\n",
        "    for j, feature in enumerate(point):\n",
        "      gradient_beta_other[j] += (pred - y[i]) * feature / batch_size\n",
        "      gradient_beta_0 += (pred - y[i]) / batch_size\n",
        "\n",
        "  return  gradient_beta_0, gradient_beta_other"
      ],
      "execution_count": null,
      "outputs": []
    }
  ]
}