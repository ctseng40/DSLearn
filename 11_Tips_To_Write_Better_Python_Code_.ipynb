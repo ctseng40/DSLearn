{
  "nbformat": 4,
  "nbformat_minor": 0,
  "metadata": {
    "colab": {
      "name": "11_Tips_To_Write_Better_Python_Code .ipynb",
      "provenance": [],
      "collapsed_sections": [],
      "authorship_tag": "ABX9TyOWx5mfL16bcGoOkCpwRaix",
      "include_colab_link": true
    },
    "kernelspec": {
      "name": "python3",
      "display_name": "Python 3"
    },
    "language_info": {
      "name": "python"
    }
  },
  "cells": [
    {
      "cell_type": "markdown",
      "metadata": {
        "id": "view-in-github",
        "colab_type": "text"
      },
      "source": [
        "<a href=\"https://colab.research.google.com/github/ctseng40/DSLearn/blob/main/11_Tips_To_Write_Better_Python_Code_.ipynb\" target=\"_parent\"><img src=\"https://colab.research.google.com/assets/colab-badge.svg\" alt=\"Open In Colab\"/></a>"
      ]
    },
    {
      "cell_type": "markdown",
      "metadata": {
        "id": "M7xBHzAETlqo"
      },
      "source": [
        "11 Tips And Tricks To Write Better Python Code \\\n",
        "Reference: https://www.youtube.com/watch?v=8OKTAedgFYg&list=PLXucvc_quQjxaS9AnzqszAuX_x_pxlEOL&index=1&t=556s"
      ]
    },
    {
      "cell_type": "code",
      "metadata": {
        "colab": {
          "base_uri": "https://localhost:8080/"
        },
        "id": "kxuVKYPUTPW8",
        "outputId": "e20466f6-35f6-4ff7-adbf-eb5b8712c295"
      },
      "source": [
        "# 1) Iterate with enumerate() instead of range(len())\n",
        "\n",
        "data = [1, 2, -4, -3]\n",
        "for i in range(len(data)):\n",
        "  if data[i] < 0:\n",
        "    data[i] = 0\n",
        "\n",
        "print(data)\n",
        "\n",
        "data = [1, 2, -4, -3]\n",
        "for idx, num in enumerate(data):\n",
        "  if num < 0:\n",
        "    data[idx] = 0\n",
        "\n",
        "print(data)"
      ],
      "execution_count": 2,
      "outputs": [
        {
          "output_type": "stream",
          "name": "stdout",
          "text": [
            "[1, 2, 0, 0]\n",
            "[1, 2, 0, 0]\n"
          ]
        }
      ]
    },
    {
      "cell_type": "code",
      "metadata": {
        "colab": {
          "base_uri": "https://localhost:8080/"
        },
        "id": "unfIH1aaV05j",
        "outputId": "36417787-9935-4c73-bc6c-e6a1b71b74f8"
      },
      "source": [
        "# 2) Use list comprehension instead of for raw loops\n",
        "\n",
        "squares = []\n",
        "for i in range(10):\n",
        "  squares.append(i*i)\n",
        "\n",
        "print(squares)\n",
        "\n",
        "\n",
        "squares = [i*i for i in range(10)]\n",
        "print(squares)"
      ],
      "execution_count": 3,
      "outputs": [
        {
          "output_type": "stream",
          "name": "stdout",
          "text": [
            "[0, 1, 4, 9, 16, 25, 36, 49, 64, 81]\n",
            "[0, 1, 4, 9, 16, 25, 36, 49, 64, 81]\n"
          ]
        }
      ]
    },
    {
      "cell_type": "code",
      "metadata": {
        "colab": {
          "base_uri": "https://localhost:8080/"
        },
        "id": "OyXwYukPXyE1",
        "outputId": "af214350-6838-4e87-8a6f-ce3044561381"
      },
      "source": [
        "# 3) Sort complex iterables with sorted()\n",
        "\n",
        "data = [3, 5, 1, 10, 9]\n",
        "sorted_data = sorted(data)\n",
        "print(sorted_data)\n",
        "\n",
        "sorted_data = sorted(data, reverse=True)\n",
        "print(sorted_data)\n",
        "\n",
        "\n",
        "data = [{\"name\": \"Max\", \"age\": 6},\n",
        "        {\"name\": \"Lisa\", \"age\": 20},\n",
        "        {\"name\": \"Ben\", \"age\": 9}]\n",
        "\n",
        "sorted_data = sorted(data, key=lambda x:x[\"age\"])\n",
        "print(sorted_data)"
      ],
      "execution_count": 5,
      "outputs": [
        {
          "output_type": "stream",
          "name": "stdout",
          "text": [
            "[1, 3, 5, 9, 10]\n",
            "[10, 9, 5, 3, 1]\n",
            "[{'name': 'Max', 'age': 6}, {'name': 'Ben', 'age': 9}, {'name': 'Lisa', 'age': 20}]\n"
          ]
        }
      ]
    },
    {
      "cell_type": "code",
      "metadata": {
        "colab": {
          "base_uri": "https://localhost:8080/"
        },
        "id": "SSPYUC-zZKb4",
        "outputId": "1dbf68ec-965b-4d20-f071-571eba6fda42"
      },
      "source": [
        "# 4) Store unique values with Sets\n",
        "\n",
        "my_list = [1,2,3,4,5,6,7,7,7]\n",
        "my_set = set(my_list)\n",
        "print(my_set)\n",
        "\n",
        "primes = {2,3,5,7,11,13,17,19}\n",
        "print(primes)"
      ],
      "execution_count": 6,
      "outputs": [
        {
          "output_type": "stream",
          "name": "stdout",
          "text": [
            "{1, 2, 3, 4, 5, 6, 7}\n",
            "{2, 3, 5, 7, 11, 13, 17, 19}\n"
          ]
        }
      ]
    },
    {
      "cell_type": "code",
      "metadata": {
        "colab": {
          "base_uri": "https://localhost:8080/"
        },
        "id": "w3MsgusOZrRP",
        "outputId": "c66619a8-5b75-4203-b9ee-84bec3e3629c"
      },
      "source": [
        "# 5) Save memory with generators\n",
        "import sys\n",
        "\n",
        "my_list = [i for i in range(10000)]\n",
        "print(sum(my_list))\n",
        "print(sys.getsizeof(my_list), \"bytes\")\n",
        "\n",
        "my_list = (i for i in range(10000))\n",
        "print(sum(my_list))\n",
        "print(sys.getsizeof(my_list), \"bytes\")"
      ],
      "execution_count": 7,
      "outputs": [
        {
          "output_type": "stream",
          "name": "stdout",
          "text": [
            "49995000\n",
            "87632 bytes\n",
            "49995000\n",
            "128 bytes\n"
          ]
        }
      ]
    },
    {
      "cell_type": "code",
      "metadata": {
        "colab": {
          "base_uri": "https://localhost:8080/"
        },
        "id": "67aBHToTarQ0",
        "outputId": "0e805205-8eea-440d-f57c-dae52ae606ea"
      },
      "source": [
        "# 6) Define default values in Dictionaries with .get() and .setdefault()\n",
        "\n",
        "my_dict = {\"item\": \"footbal\", \"price\": 10.00}\n",
        "#count = my_dict[\"count\"] # this will cause error\n",
        "count = my_dict.get(\"count\")\n",
        "print(count)\n",
        "\n",
        "count = my_dict.get(\"count\", 0)\n",
        "print(count)\n",
        "\n",
        "count = my_dict.setdefault(\"count\", 0)\n",
        "print(count)\n",
        "print(my_dict)"
      ],
      "execution_count": 11,
      "outputs": [
        {
          "output_type": "stream",
          "name": "stdout",
          "text": [
            "None\n",
            "0\n",
            "0\n",
            "{'item': 'footbal', 'price': 10.0, 'count': 0}\n"
          ]
        }
      ]
    },
    {
      "cell_type": "code",
      "metadata": {
        "colab": {
          "base_uri": "https://localhost:8080/"
        },
        "id": "vMOPNc5xbtIh",
        "outputId": "df0f326c-6192-4d01-c2b5-92fe1bee762c"
      },
      "source": [
        "# 7) Count hashable objects with collections.Counter\n",
        "\n",
        "from collections import Counter\n",
        "\n",
        "my_list = [10,10,10,5,5,2,9,9,9,9,9,9]\n",
        "counter = Counter(my_list)\n",
        "\n",
        "print(counter)\n",
        "print(counter[10])\n",
        "print(counter[11])\n",
        "\n",
        "most_common = counter.most_common(1)\n",
        "print(most_common)\n",
        "most_common = counter.most_common(2)\n",
        "print(most_common)\n"
      ],
      "execution_count": 12,
      "outputs": [
        {
          "output_type": "stream",
          "name": "stdout",
          "text": [
            "Counter({9: 6, 10: 3, 5: 2, 2: 1})\n"
          ]
        }
      ]
    },
    {
      "cell_type": "code",
      "metadata": {
        "colab": {
          "base_uri": "https://localhost:8080/"
        },
        "id": "taqZfw8cc1DY",
        "outputId": "28aae396-9991-4df6-9190-5407ec0574dc"
      },
      "source": [
        "# 8) Format strings with f-Strings\n",
        "\n",
        "name = \"Alex\"\n",
        "my_string = f\"Hello {name}\"\n",
        "print(my_string)\n",
        "\n",
        "i = 10\n",
        "my_string = f\"{i} squared is {i*i}\"\n",
        "print(my_string)"
      ],
      "execution_count": 14,
      "outputs": [
        {
          "output_type": "stream",
          "name": "stdout",
          "text": [
            "Hello Alex\n",
            "10 squared is 100\n"
          ]
        }
      ]
    },
    {
      "cell_type": "code",
      "metadata": {
        "colab": {
          "base_uri": "https://localhost:8080/"
        },
        "id": "iAqkDhAWdW7t",
        "outputId": "f96e3f73-92a9-45af-f607-4a42dbe12d42"
      },
      "source": [
        "# 9) Concatenate strings with .join()\n",
        "list_of_strings = [\"hello\", \"my\", \"friend\"]\n",
        "\n",
        "# BAD!\n",
        "my_string = \"\"\n",
        "for i in list_of_strings:\n",
        "  my_string += i + \" \"\n",
        "print(my_string)\n",
        "\n",
        "# GOOD!\n",
        "my_string = \" \".join(list_of_strings)\n",
        "print(my_string)\n",
        "\n",
        "my_string = \"_\".join(list_of_strings)\n",
        "print(my_string)"
      ],
      "execution_count": 15,
      "outputs": [
        {
          "output_type": "stream",
          "name": "stdout",
          "text": [
            "hello my friend \n",
            "hello my friend\n"
          ]
        }
      ]
    },
    {
      "cell_type": "code",
      "metadata": {
        "colab": {
          "base_uri": "https://localhost:8080/"
        },
        "id": "vp9puY8weoYE",
        "outputId": "e4036838-6bc2-4a14-bf7b-9a177987d642"
      },
      "source": [
        "# 10) Merge dictionaries with {**d1, **d2}\n",
        "d1 = {\"name\": \"Alex\", \"age\":25}\n",
        "d2 = {\"name\": \"Alex\", \"city\":\"New York\"}\n",
        "merge_dict = {**d1, **d2}\n",
        "print(merge_dict)"
      ],
      "execution_count": 16,
      "outputs": [
        {
          "output_type": "stream",
          "name": "stdout",
          "text": [
            "{'name': 'Alex', 'age': 25, 'city': 'New York'}\n"
          ]
        }
      ]
    },
    {
      "cell_type": "code",
      "metadata": {
        "colab": {
          "base_uri": "https://localhost:8080/"
        },
        "id": "GAVVUWZxfLFl",
        "outputId": "f50cba27-8091-4b7c-a20a-d2cf1ed42ce0"
      },
      "source": [
        "# 11) Simplify if-statement with if x in [a,b,c]\n",
        "colors = [\"red\", \"green\", \"blue\"]\n",
        "\n",
        "c = \"red\"\n",
        "if c in colors:\n",
        "  print(f\"{c} is a main color\")\n"
      ],
      "execution_count": 17,
      "outputs": [
        {
          "output_type": "stream",
          "name": "stdout",
          "text": [
            "red is a main color\n"
          ]
        }
      ]
    }
  ]
}